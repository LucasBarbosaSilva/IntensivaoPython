{
 "cells": [
  {
   "cell_type": "markdown",
   "id": "d676be67",
   "metadata": {},
   "source": [
    "# Aula 1\n",
    "## Automação de Tarefas\n"
   ]
  },
  {
   "cell_type": "code",
   "execution_count": 83,
   "id": "ce45515d",
   "metadata": {
    "scrolled": true
   },
   "outputs": [
    {
     "name": "stdout",
     "output_type": "stream",
     "text": [
      "Requirement already satisfied: pyautogui in c:\\users\\nerdl\\anaconda3\\lib\\site-packages (0.9.53)\n",
      "Requirement already satisfied: mouseinfo in c:\\users\\nerdl\\anaconda3\\lib\\site-packages (from pyautogui) (0.1.3)\n",
      "Requirement already satisfied: pyscreeze>=0.1.21 in c:\\users\\nerdl\\anaconda3\\lib\\site-packages (from pyautogui) (0.1.28)\n",
      "Requirement already satisfied: pymsgbox in c:\\users\\nerdl\\anaconda3\\lib\\site-packages (from pyautogui) (1.0.9)\n",
      "Requirement already satisfied: pygetwindow>=0.0.5 in c:\\users\\nerdl\\anaconda3\\lib\\site-packages (from pyautogui) (0.0.9)\n",
      "Requirement already satisfied: PyTweening>=1.0.1 in c:\\users\\nerdl\\anaconda3\\lib\\site-packages (from pyautogui) (1.0.4)\n",
      "Requirement already satisfied: pyrect in c:\\users\\nerdl\\anaconda3\\lib\\site-packages (from pygetwindow>=0.0.5->pyautogui) (0.2.0)\n",
      "Requirement already satisfied: pyperclip in c:\\users\\nerdl\\anaconda3\\lib\\site-packages (from mouseinfo->pyautogui) (1.8.2)\n"
     ]
    }
   ],
   "source": [
    "!pip install pyautogui"
   ]
  },
  {
   "cell_type": "markdown",
   "id": "7536f017",
   "metadata": {},
   "source": [
    "# Configuração"
   ]
  },
  {
   "cell_type": "code",
   "execution_count": 84,
   "id": "01d7563d",
   "metadata": {},
   "outputs": [],
   "source": [
    "\"\"\"\n",
    "Biblioteca: pyautogui\n",
    "\n",
    "\"\"\"\n",
    "import pyautogui as pa\n",
    "import pyperclip as pc\n",
    "import time\n",
    "pa.PAUSE = 1 #pausa de um segundo\n",
    "pa.FAILSAFE = True\n",
    "\n",
    "#pyautogui.click -> clicar\n",
    "#pyautogui.write -> escrever\n",
    "#pyautogui.press -> pressionar\n",
    "#pyautogui.hotkey -> atalho"
   ]
  },
  {
   "cell_type": "markdown",
   "id": "4a468131",
   "metadata": {},
   "source": [
    "# Passo 1: Entrar no sistema da empresa"
   ]
  },
  {
   "cell_type": "code",
   "execution_count": 85,
   "id": "80785c2c",
   "metadata": {},
   "outputs": [],
   "source": [
    "pa.hotkey(\"ctrl\", \"t\")\n",
    "#pyautogui.write(\"https://drive.google.com/drive/u/0/folders/149xknr9JvrlEnhNWO49zPcw0PW5icxga\") #cuidado com a velocidade (sincronismo)\n",
    "pc.copy(\"https://drive.google.com/drive/u/0/folders/149xknr9JvrlEnhNWO49zPcw0PW5icxga\") #cuidado com a velocidade (sincronismo)\n",
    "pa.hotkey(\"ctrl\", \"v\")\n",
    "pa.press(\"enter\")"
   ]
  },
  {
   "cell_type": "markdown",
   "id": "0a137956",
   "metadata": {},
   "source": [
    "# Passo 2: Navegar até Exportar e ir até o arquivo e exportar o relatório"
   ]
  },
  {
   "cell_type": "code",
   "execution_count": 86,
   "id": "94d77746",
   "metadata": {},
   "outputs": [],
   "source": [
    "time.sleep(3)\n",
    "#pa.position() -> pegar a posição do mouse\n",
    "pa.click(x=425, y=303, clicks=2) #Clica na pasta Exportar\n",
    "time.sleep(2)\n",
    "pa.click(x=380, y=366) #Clica no arquivo\n",
    "pa.click(x=1715, y=193) #Clica nos três pontos\n",
    "pa.click(x=1492, y=630) #Clica em download\n",
    "time.sleep(6) #Aguarda o download\n",
    "pa.hotkey(\"ctrl\", \"w\")"
   ]
  },
  {
   "cell_type": "code",
   "execution_count": null,
   "id": "0f89f413",
   "metadata": {},
   "outputs": [],
   "source": []
  },
  {
   "cell_type": "markdown",
   "id": "36ad8d42",
   "metadata": {},
   "source": [
    "# Passo 3: ler o arquivo baixado e pegar os indicadores\n",
    "Instalar os seguintes programas:\n",
    "- pandas\n",
    "- numpy\n",
    "- openpyxl\n",
    "\n",
    "Caracteres especiais!!!!\n",
    "Antes de ler qualquer arquivo no python, por o r antes do caminho. Isso indica pra ele que o que tem a seguir não é caracter especial (por exemplo as barras), mas sim tudo faz parte de um path. \n",
    "r vem de raw (\"cru\")\n",
    "\n",
    "Biblioteca de pdf:\n",
    "import tabula"
   ]
  },
  {
   "cell_type": "code",
   "execution_count": 87,
   "id": "1fa49b62",
   "metadata": {},
   "outputs": [
    {
     "name": "stdout",
     "output_type": "stream",
     "text": [
      "2917311\n",
      "15227\n"
     ]
    }
   ],
   "source": [
    "import pandas as pd\n",
    "#Biblioteca de leitura e manipulação de documentos\n",
    "tabela = pd.read_excel(r\"C:\\Users\\nerdl\\Downloads\\Vendas - Dez.xlsx\")\n",
    "#display(tabela) --> Só funciona se for no jupyter\n",
    "\n",
    "faturamento = tabela[\"Valor Final\"].sum()\n",
    "quantidade = tabela[\"Quantidade\"].sum()\n",
    "print(faturamento)\n",
    "print(quantidade)"
   ]
  },
  {
   "cell_type": "markdown",
   "id": "49b29528",
   "metadata": {},
   "source": [
    "# Passo 5: Enviar um email para a diretoria"
   ]
  },
  {
   "cell_type": "code",
   "execution_count": 88,
   "id": "0485afa2",
   "metadata": {},
   "outputs": [],
   "source": [
    "#Abrir o gmail no navegador\n",
    "pa.hotkey(\"ctrl\", \"t\")\n",
    "pc.copy(\"https://gmail.com/\")\n",
    "pa.hotkey(\"ctrl\", \"v\")\n",
    "pa.press(\"enter\")\n",
    "time.sleep(3)\n",
    "\n",
    "pa.click(x=47, y=187)\n",
    "\n",
    "pa.write(\"blucas.oficial@gmail.com\")\n",
    "pa.press(\"tab\")\n",
    "\n",
    "pa.press(\"tab\")\n",
    "\n",
    "pc.copy(\"Relatório de vendas\")\n",
    "pa.hotkey(\"ctrl\", \"v\")\n",
    "\n",
    "pa.press(\"tab\")\n",
    "texto = f\"\"\"\n",
    "Prezados, bom dia!b\n",
    "Faturamento de ontem: R$ {faturamento:,.2f}\n",
    "Quantidade vendida: {quantidade:,}\n",
    "\"\"\"\n",
    "pc.copy(texto)\n",
    "pa.hotkey(\"ctrl\", \"v\")\n",
    "pa.hotkey(\"ctrl\", \"enter\")\n",
    "time.sleep(6) #Aguarda o download\n",
    "pa.hotkey(\"ctrl\", \"w\")"
   ]
  },
  {
   "cell_type": "code",
   "execution_count": 89,
   "id": "9ba79d97",
   "metadata": {},
   "outputs": [
    {
     "data": {
      "text/plain": [
       "Point(x=152, y=708)"
      ]
     },
     "execution_count": 89,
     "metadata": {},
     "output_type": "execute_result"
    }
   ],
   "source": [
    "time.sleep(5)\n",
    "pa.position()"
   ]
  },
  {
   "cell_type": "code",
   "execution_count": null,
   "id": "26c55494",
   "metadata": {},
   "outputs": [],
   "source": []
  },
  {
   "cell_type": "code",
   "execution_count": null,
   "id": "b8623f1f",
   "metadata": {},
   "outputs": [],
   "source": []
  }
 ],
 "metadata": {
  "kernelspec": {
   "display_name": "Python 3 (ipykernel)",
   "language": "python",
   "name": "python3"
  },
  "language_info": {
   "codemirror_mode": {
    "name": "ipython",
    "version": 3
   },
   "file_extension": ".py",
   "mimetype": "text/x-python",
   "name": "python",
   "nbconvert_exporter": "python",
   "pygments_lexer": "ipython3",
   "version": "3.9.13"
  }
 },
 "nbformat": 4,
 "nbformat_minor": 5
}
